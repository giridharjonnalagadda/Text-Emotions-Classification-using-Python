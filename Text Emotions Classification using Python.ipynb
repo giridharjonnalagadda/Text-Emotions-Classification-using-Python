{
 "cells": [
  {
   "cell_type": "code",
   "execution_count": 10,
   "id": "7baafbc2",
   "metadata": {
    "scrolled": true
   },
   "outputs": [
    {
     "name": "stdout",
     "output_type": "stream",
     "text": [
      "                                                Text Emotions\n",
      "0          im updating my blog because i feel shitty  sadness\n",
      "1  i never make her separate from me because i do...  sadness\n",
      "2  i left with my bouquet of red and yellow tulip...      joy\n",
      "3    i was feeling a little vain when i did this one  sadness\n",
      "4  i cant walk into a shop anywhere where i do no...     fear\n"
     ]
    }
   ],
   "source": [
    "import pandas as pd\n",
    "import numpy as np\n",
    "import keras\n",
    "import tensorflow\n",
    "from keras.preprocessing.text import Tokenizer\n",
    "from tensorflow.keras.preprocessing.sequence import pad_sequences\n",
    "from sklearn.preprocessing import LabelEncoder\n",
    "from sklearn.model_selection import train_test_split\n",
    "from keras.models import Sequential\n",
    "from keras.layers import Embedding, Flatten, Dense\n",
    "\n",
    "\n",
    "data = pd.read_csv(\"D:/giri/downloads/archive/test.txt\", sep=';')\n",
    "data.columns = [\"Text\", \"Emotions\"]\n",
    "print(data.head())"
   ]
  },
  {
   "cell_type": "code",
   "execution_count": 11,
   "id": "c8fb2e6e",
   "metadata": {},
   "outputs": [],
   "source": [
    "texts = data[\"Text\"].tolist()\n",
    "labels = data[\"Emotions\"].tolist()\n",
    "\n",
    "# Tokenize the text data\n",
    "tokenizer = Tokenizer()\n",
    "tokenizer.fit_on_texts(texts)"
   ]
  },
  {
   "cell_type": "code",
   "execution_count": 12,
   "id": "ccda428f",
   "metadata": {},
   "outputs": [],
   "source": [
    "sequences = tokenizer.texts_to_sequences(texts)\n",
    "max_length = max([len(seq) for seq in sequences])\n",
    "padded_sequences = pad_sequences(sequences, maxlen=max_length)"
   ]
  },
  {
   "cell_type": "code",
   "execution_count": 13,
   "id": "db71837b",
   "metadata": {},
   "outputs": [],
   "source": [
    "label_encoder = LabelEncoder()\n",
    "labels = label_encoder.fit_transform(labels)"
   ]
  },
  {
   "cell_type": "code",
   "execution_count": 14,
   "id": "1fa26a80",
   "metadata": {},
   "outputs": [],
   "source": [
    "one_hot_labels = keras.utils.to_categorical(labels)"
   ]
  },
  {
   "cell_type": "code",
   "execution_count": 15,
   "id": "0ae6cc78",
   "metadata": {},
   "outputs": [],
   "source": [
    "xtrain, xtest, ytrain, ytest = train_test_split(padded_sequences, \n",
    "                                                one_hot_labels, \n",
    "                                                test_size=0.2)"
   ]
  },
  {
   "cell_type": "code",
   "execution_count": 16,
   "id": "85a9fe52",
   "metadata": {},
   "outputs": [
    {
     "name": "stdout",
     "output_type": "stream",
     "text": [
      "Epoch 1/10\n",
      "50/50 [==============================] - 2s 21ms/step - loss: 1.5902 - accuracy: 0.3240 - val_loss: 1.5660 - val_accuracy: 0.3500\n",
      "Epoch 2/10\n",
      "50/50 [==============================] - 1s 17ms/step - loss: 1.3846 - accuracy: 0.5053 - val_loss: 1.5493 - val_accuracy: 0.3725\n",
      "Epoch 3/10\n",
      "50/50 [==============================] - 1s 18ms/step - loss: 0.9072 - accuracy: 0.6904 - val_loss: 1.5219 - val_accuracy: 0.4125\n",
      "Epoch 4/10\n",
      "50/50 [==============================] - 1s 21ms/step - loss: 0.4082 - accuracy: 0.9174 - val_loss: 1.6462 - val_accuracy: 0.3650\n",
      "Epoch 5/10\n",
      "50/50 [==============================] - 1s 20ms/step - loss: 0.1418 - accuracy: 0.9837 - val_loss: 1.6743 - val_accuracy: 0.4000\n",
      "Epoch 6/10\n",
      "50/50 [==============================] - 1s 17ms/step - loss: 0.0543 - accuracy: 0.9969 - val_loss: 1.7323 - val_accuracy: 0.4175\n",
      "Epoch 7/10\n",
      "50/50 [==============================] - 1s 16ms/step - loss: 0.0243 - accuracy: 1.0000 - val_loss: 1.7866 - val_accuracy: 0.4175\n",
      "Epoch 8/10\n",
      "50/50 [==============================] - 1s 17ms/step - loss: 0.0132 - accuracy: 1.0000 - val_loss: 1.8472 - val_accuracy: 0.4100\n",
      "Epoch 9/10\n",
      "50/50 [==============================] - 1s 17ms/step - loss: 0.0085 - accuracy: 1.0000 - val_loss: 1.8758 - val_accuracy: 0.4150\n",
      "Epoch 10/10\n",
      "50/50 [==============================] - 1s 17ms/step - loss: 0.0059 - accuracy: 1.0000 - val_loss: 1.9083 - val_accuracy: 0.4225\n"
     ]
    },
    {
     "data": {
      "text/plain": [
       "<keras.callbacks.History at 0x199154da2f0>"
      ]
     },
     "execution_count": 16,
     "metadata": {},
     "output_type": "execute_result"
    }
   ],
   "source": [
    "model = Sequential()\n",
    "model.add(Embedding(input_dim=len(tokenizer.word_index) + 1, \n",
    "                    output_dim=128, input_length=max_length))\n",
    "model.add(Flatten())\n",
    "model.add(Dense(units=128, activation=\"relu\"))\n",
    "model.add(Dense(units=len(one_hot_labels[0]), activation=\"softmax\"))\n",
    "\n",
    "model.compile(optimizer=\"adam\", loss=\"categorical_crossentropy\", metrics=[\"accuracy\"])\n",
    "model.fit(xtrain, ytrain, epochs=10, batch_size=32, validation_data=(xtest, ytest))"
   ]
  },
  {
   "cell_type": "code",
   "execution_count": 17,
   "id": "0bc64cfb",
   "metadata": {},
   "outputs": [
    {
     "name": "stdout",
     "output_type": "stream",
     "text": [
      "1/1 [==============================] - 0s 118ms/step\n",
      "['sadness']\n"
     ]
    }
   ],
   "source": [
    "input_text = \"She didn't come today because she lost her dog yestertay!\"\n",
    "\n",
    "# Preprocess the input text\n",
    "input_sequence = tokenizer.texts_to_sequences([input_text])\n",
    "padded_input_sequence = pad_sequences(input_sequence, maxlen=max_length)\n",
    "prediction = model.predict(padded_input_sequence)\n",
    "predicted_label = label_encoder.inverse_transform([np.argmax(prediction[0])])\n",
    "print(predicted_label)"
   ]
  },
  {
   "cell_type": "code",
   "execution_count": null,
   "id": "31c8215f",
   "metadata": {},
   "outputs": [],
   "source": []
  }
 ],
 "metadata": {
  "kernelspec": {
   "display_name": "Python 3 (ipykernel)",
   "language": "python",
   "name": "python3"
  },
  "language_info": {
   "codemirror_mode": {
    "name": "ipython",
    "version": 3
   },
   "file_extension": ".py",
   "mimetype": "text/x-python",
   "name": "python",
   "nbconvert_exporter": "python",
   "pygments_lexer": "ipython3",
   "version": "3.10.9"
  }
 },
 "nbformat": 4,
 "nbformat_minor": 5
}
